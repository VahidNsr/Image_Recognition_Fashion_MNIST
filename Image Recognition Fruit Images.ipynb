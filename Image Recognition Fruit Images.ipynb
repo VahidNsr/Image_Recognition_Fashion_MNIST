{
 "cells": [
  {
   "cell_type": "markdown",
   "id": "4c1f6d1d",
   "metadata": {},
   "source": [
    "# Image Recognition - Case Study: Fruit Images"
   ]
  },
  {
   "cell_type": "code",
   "execution_count": null,
   "id": "0e37112d",
   "metadata": {},
   "outputs": [],
   "source": []
  },
  {
   "cell_type": "markdown",
   "id": "41b9b539",
   "metadata": {},
   "source": [
    "## Import Liberaries"
   ]
  },
  {
   "cell_type": "code",
   "execution_count": 1,
   "id": "4d50dede",
   "metadata": {},
   "outputs": [],
   "source": [
    "import numpy as np                      #for numerical computation\n",
    "import pandas as pd                     #for data analysis and data manipulation\n",
    "import matplotlib.pyplot as plt         #for data visualization\n",
    "import seaborn as sns                   #for data visualization\n",
    "import tensorflow as tf                 #for machine learning and deep neural network\n",
    "from tensorflow import keras"
   ]
  },
  {
   "cell_type": "code",
   "execution_count": 2,
   "id": "0a1f5f94",
   "metadata": {},
   "outputs": [
    {
     "data": {
      "text/plain": [
       "'2.11.0'"
      ]
     },
     "execution_count": 2,
     "metadata": {},
     "output_type": "execute_result"
    }
   ],
   "source": [
    "tf.__version__"
   ]
  },
  {
   "cell_type": "code",
   "execution_count": 3,
   "id": "e8105867",
   "metadata": {},
   "outputs": [
    {
     "data": {
      "text/plain": [
       "'2.11.0'"
      ]
     },
     "execution_count": 3,
     "metadata": {},
     "output_type": "execute_result"
    }
   ],
   "source": [
    "keras.__version__"
   ]
  },
  {
   "cell_type": "code",
   "execution_count": 4,
   "id": "be828559",
   "metadata": {},
   "outputs": [
    {
     "name": "stdout",
     "output_type": "stream",
     "text": [
      "Num GPUs Available:  0\n"
     ]
    }
   ],
   "source": [
    "print(\"Num GPUs Available: \", len(tf.config.list_physical_devices('GPU')))"
   ]
  },
  {
   "cell_type": "markdown",
   "id": "3292eba7",
   "metadata": {},
   "source": [
    "## Creating Dataset"
   ]
  },
  {
   "cell_type": "code",
   "execution_count": 5,
   "id": "e6ef26a1",
   "metadata": {},
   "outputs": [],
   "source": [
    "import os"
   ]
  },
  {
   "cell_type": "code",
   "execution_count": 6,
   "id": "e70e4c46",
   "metadata": {},
   "outputs": [],
   "source": [
    "main_directory = 'F:/Data Science/Deep Learning/Datasets/Fruit Image/images/'\n",
    "list_tag = ['apple', 'banana', 'cherry', 'chickoo', 'grapes', 'kiwi', 'mango', 'orange','strawberry']\n",
    "\n",
    "def get_imagespath(main_directory, list_tag):\n",
    "    list_img = []\n",
    "    for i in list_tag:\n",
    "        image_filenames = []\n",
    "        directory_path = main_directory + i + ' fruit'\n",
    "        if not os.path.exists(directory_path):\n",
    "            print(\"Directory does not exist for \" + i)\n",
    "            continue  # Skip to the next tag if directory doesn't exist\n",
    "            \n",
    "        for filename in os.listdir(directory_path):\n",
    "            if filename.lower().endswith(('.png', '.jpg', '.jpeg', '.gif', '.bmp')):\n",
    "                image_filenames.append(filename)\n",
    "                \n",
    "        for filename in image_filenames:\n",
    "            list_img.append(((directory_path + '/' +filename),i))\n",
    "        \n",
    "    return(list_img)"
   ]
  },
  {
   "cell_type": "code",
   "execution_count": 7,
   "id": "1e79b944",
   "metadata": {},
   "outputs": [],
   "source": [
    "main_directory = 'F:/Data Science/Deep Learning/Datasets/Fruit Image/images_train/'\n",
    "\n",
    "list_imagespath_train = get_imagespath(main_directory, list_tag)"
   ]
  },
  {
   "cell_type": "code",
   "execution_count": 30,
   "id": "56639d57",
   "metadata": {},
   "outputs": [],
   "source": [
    "from PIL import Image\n",
    "\n",
    "X_train = []\n",
    "Y_train = []\n",
    "\n",
    "for i , j in list_imagespath_train:\n",
    "    X_train.append((np.array(Image.open(i).resize((28, 28)))))\n",
    "    Y_train.append(j)"
   ]
  },
  {
   "cell_type": "code",
   "execution_count": 9,
   "id": "5f16d483",
   "metadata": {},
   "outputs": [],
   "source": [
    "main_directory = 'F:/Data Science/Deep Learning/Datasets/Fruit Image/images_test/'\n",
    "\n",
    "list_imagespath_test = get_imagespath(main_directory, list_tag)"
   ]
  },
  {
   "cell_type": "code",
   "execution_count": 10,
   "id": "66e853e2",
   "metadata": {},
   "outputs": [],
   "source": [
    "X_test = []\n",
    "Y_test = []\n",
    "\n",
    "for i , j in list_imagespath_test:\n",
    "    X_test.append((np.array(Image.open(i).resize((28, 28)))))\n",
    "    Y_test.append(j)"
   ]
  },
  {
   "cell_type": "code",
   "execution_count": 11,
   "id": "ec94d641",
   "metadata": {},
   "outputs": [
    {
     "data": {
      "text/plain": [
       "<matplotlib.image.AxesImage at 0x1bb9cbeed30>"
      ]
     },
     "execution_count": 11,
     "metadata": {},
     "output_type": "execute_result"
    },
    {
     "data": {
      "image/png": "[encoded data removed]",
      "text/plain": [
       "<Figure size 640x480 with 1 Axes>"
      ]
     },
     "metadata": {},
     "output_type": "display_data"
    }
   ],
   "source": [
    "plt.imshow(X_train[0], cmap = plt.cm.binary) "
   ]
  },
  {
   "cell_type": "code",
   "execution_count": 13,
   "id": "be73a1aa",
   "metadata": {},
   "outputs": [
    {
     "ename": "ValueError",
     "evalue": "could not broadcast input array from shape (28,28,4) into shape (28,28,3)",
     "output_type": "error",
     "traceback": [
      "\u001b[1;31m---------------------------------------------------------------------------\u001b[0m",
      "\u001b[1;31mValueError\u001b[0m                                Traceback (most recent call last)",
      "\u001b[1;32m~\\AppData\\Local\\Temp\\ipykernel_18736\\211815154.py\u001b[0m in \u001b[0;36m<module>\u001b[1;34m\u001b[0m\n\u001b[0;32m      4\u001b[0m \u001b[1;31m# Iterate through each image and add it to the array\u001b[0m\u001b[1;33m\u001b[0m\u001b[1;33m\u001b[0m\u001b[0m\n\u001b[0;32m      5\u001b[0m \u001b[1;32mfor\u001b[0m \u001b[0mi\u001b[0m\u001b[1;33m,\u001b[0m \u001b[0mimg\u001b[0m \u001b[1;32min\u001b[0m \u001b[0menumerate\u001b[0m\u001b[1;33m(\u001b[0m\u001b[0mX_train\u001b[0m\u001b[1;33m)\u001b[0m\u001b[1;33m:\u001b[0m\u001b[1;33m\u001b[0m\u001b[1;33m\u001b[0m\u001b[0m\n\u001b[1;32m----> 6\u001b[1;33m     \u001b[0mrgb_array\u001b[0m\u001b[1;33m[\u001b[0m\u001b[0mi\u001b[0m\u001b[1;33m]\u001b[0m \u001b[1;33m=\u001b[0m \u001b[0mimg\u001b[0m\u001b[1;33m\u001b[0m\u001b[1;33m\u001b[0m\u001b[0m\n\u001b[0m",
      "\u001b[1;31mValueError\u001b[0m: could not broadcast input array from shape (28,28,4) into shape (28,28,3)"
     ]
    }
   ],
   "source": [
    "# Initialize an empty array to hold the images\n",
    "rgb_array = np.empty((288, 28, 28, 3))\n",
    "\n",
    "# Iterate through each image and add it to the array\n",
    "for i, img in enumerate(X_train):\n",
    "    rgb_array[i] = img"
   ]
  },
  {
   "cell_type": "code",
   "execution_count": 27,
   "id": "4ac2962d",
   "metadata": {},
   "outputs": [
    {
     "data": {
      "image/png": "[encoded data removed]",
      "text/plain": [
       "<Figure size 640x480 with 1 Axes>"
      ]
     },
     "metadata": {},
     "output_type": "display_data"
    }
   ],
   "source": [
    "for i in X_train:\n",
    "    if i.shape == (28, 28):\n",
    "        plt.imshow(i, cmap = plt.cm.binary) "
   ]
  },
  {
   "cell_type": "code",
   "execution_count": 18,
   "id": "825cd001",
   "metadata": {},
   "outputs": [
    {
     "data": {
      "text/plain": [
       "<matplotlib.image.AxesImage at 0x1bb9cf1aac0>"
      ]
     },
     "execution_count": 18,
     "metadata": {},
     "output_type": "execute_result"
    },
    {
     "data": {
      "image/png": "[encoded data removed]",
      "text/plain": [
       "<Figure size 640x480 with 1 Axes>"
      ]
     },
     "metadata": {},
     "output_type": "display_data"
    }
   ],
   "source": [
    "plt.imshow(X_train[5], cmap = plt.cm.binary) "
   ]
  },
  {
   "cell_type": "code",
   "execution_count": 31,
   "id": "50e604ff",
   "metadata": {},
   "outputs": [
    {
     "ename": "ValueError",
     "evalue": "cannot reshape array of size 3136 into shape (28,28,3)",
     "output_type": "error",
     "traceback": [
      "\u001b[1;31m---------------------------------------------------------------------------\u001b[0m",
      "\u001b[1;31mValueError\u001b[0m                                Traceback (most recent call last)",
      "\u001b[1;32m~\\AppData\\Local\\Temp\\ipykernel_18736\\3922421104.py\u001b[0m in \u001b[0;36m<module>\u001b[1;34m\u001b[0m\n\u001b[1;32m----> 1\u001b[1;33m \u001b[0mX_train\u001b[0m\u001b[1;33m[\u001b[0m\u001b[1;36m5\u001b[0m\u001b[1;33m]\u001b[0m\u001b[1;33m.\u001b[0m\u001b[0mreshape\u001b[0m\u001b[1;33m(\u001b[0m\u001b[1;33m(\u001b[0m\u001b[1;36m28\u001b[0m\u001b[1;33m,\u001b[0m\u001b[1;36m28\u001b[0m\u001b[1;33m,\u001b[0m\u001b[1;36m3\u001b[0m\u001b[1;33m)\u001b[0m\u001b[1;33m)\u001b[0m\u001b[1;33m\u001b[0m\u001b[1;33m\u001b[0m\u001b[0m\n\u001b[0m",
      "\u001b[1;31mValueError\u001b[0m: cannot reshape array of size 3136 into shape (28,28,3)"
     ]
    }
   ],
   "source": [
    "X_train[5].reshape((28,28,3))"
   ]
  },
  {
   "cell_type": "code",
   "execution_count": null,
   "id": "82c75c50",
   "metadata": {},
   "outputs": [],
   "source": []
  }
 ],
 "metadata": {
  "kernelspec": {
   "display_name": "Python 3 (ipykernel)",
   "language": "python",
   "name": "python3"
  },
  "language_info": {
   "codemirror_mode": {
    "name": "ipython",
    "version": 3
   },
   "file_extension": ".py",
   "mimetype": "text/x-python",
   "name": "python",
   "nbconvert_exporter": "python",
   "pygments_lexer": "ipython3",
   "version": "3.9.13"
  }
 },
 "nbformat": 4,
 "nbformat_minor": 5
}
